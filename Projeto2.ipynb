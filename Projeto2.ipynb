{
 "cells": [
  {
   "cell_type": "markdown",
   "metadata": {},
   "source": [
    "### Projeto 2 - Arvores Binárias de Busca e Arvores AVL\n",
    "\n",
    "1. Baixar CSV com dados\n",
    "2. Escrever rotinas para ler o arquivo e mapear os dados em uma Árvore Binária de Busca E AVL (com as características da base de dados). Vocês devem pensar na melhor forma de montar a estrutura de dados e o que carregar na estrutura.\n",
    "3. Escrever métodos buscar determinados atributos (chave). \n",
    "4. Criar gráficos, tabelas ou outros recursos para demonstrar resultados comparativos de desempenho entre a Árvore Binária de Busca e AVL.\n",
    "5. Discutir como seria montada cada árvore com buscar feitas por outro campo que não seja a chave.\n"
   ]
  },
  {
   "cell_type": "markdown",
   "metadata": {},
   "source": [
    "### Bibliotecas"
   ]
  },
  {
   "cell_type": "code",
   "execution_count": null,
   "metadata": {},
   "outputs": [],
   "source": [
    "# Bibliotecas para o projeto\n",
    "import pandas as pd\n",
    "import numpy as np\n",
    "from datetime import datetime\n",
    "import sys"
   ]
  },
  {
   "cell_type": "code",
   "execution_count": null,
   "metadata": {},
   "outputs": [],
   "source": [
    "# Para resolver o problema da recursão do Python\n",
    "sys.setrecursionlimit(300000)"
   ]
  },
  {
   "cell_type": "markdown",
   "metadata": {},
   "source": [
    "### Carga de Dados\n",
    "\n",
    "Encontramos no Kaggle uma base com todos os corredores que finalizaram a maratona de Boston nos anos de 2015,2016 e 2017. \n",
    "\n",
    "Fonte: https://www.kaggle.com/datasets/rojour/boston-results?resource=download\n",
    "\n",
    "Para cada ano, existe um arquivo CSV com aproximadamente 22 colunas cada (há algumas diferenças que foram tratadas para equalisar a base). \n"
   ]
  },
  {
   "cell_type": "code",
   "execution_count": null,
   "metadata": {},
   "outputs": [],
   "source": [
    "# Leitura dos Arquivos\n",
    "df_2017 = pd.read_csv('../data/marathon_results_2017.csv',sep=',')"
   ]
  },
  {
   "cell_type": "code",
   "execution_count": null,
   "metadata": {},
   "outputs": [],
   "source": [
    "# Carrega os dados do arquivo\n",
    "df_arvore = df_2017[['Bib','Name','Age','M/F','Country','Official Time','Overall','Gender','Division']]\n"
   ]
  },
  {
   "cell_type": "code",
   "execution_count": null,
   "metadata": {},
   "outputs": [],
   "source": [
    "# Apaga algumas linhas que o Numero de Inscrição tem texto\n",
    "df_arvore = df_arvore[~df_arvore['Bib'].str.contains('F')]"
   ]
  },
  {
   "cell_type": "code",
   "execution_count": null,
   "metadata": {},
   "outputs": [],
   "source": [
    "# Transforma o Numero de Inscrição \n",
    "df_arvore['Bib'] = df_arvore['Bib'].astype(int)"
   ]
  },
  {
   "cell_type": "code",
   "execution_count": null,
   "metadata": {},
   "outputs": [],
   "source": [
    "# Array para guardar os dados da execução\n",
    "dados_execucoes = []"
   ]
  },
  {
   "cell_type": "code",
   "execution_count": null,
   "metadata": {},
   "outputs": [],
   "source": [
    "# Cria um vetor aleatorio de busca para teste da função busca\n",
    "vetor_busca = np.random.randint(df_arvore['Bib'].min(),df_arvore['Bib'].max(),10000).tolist()\n"
   ]
  },
  {
   "cell_type": "code",
   "execution_count": null,
   "metadata": {},
   "outputs": [],
   "source": [
    "# Faz a Ordenação do Vetor para o teste ordenado \n",
    "#df_arvore = df_arvore.sort_values(by='Bib').reset_index()"
   ]
  },
  {
   "cell_type": "markdown",
   "metadata": {},
   "source": [
    "### Arvore Binária de Busca\n",
    "\n",
    "Código adaptado de: https://gist.github.com/divanibarbosa/a8662693e44ab9ee0d0e8c2d74808929\n",
    "\n",
    "O Código foi disponibilizado em um arquivo local: arvore_binaria.py"
   ]
  },
  {
   "cell_type": "code",
   "execution_count": null,
   "metadata": {},
   "outputs": [],
   "source": [
    "# Importa a classe Arvore Binária\n",
    "import arvore_binaria as ab "
   ]
  },
  {
   "cell_type": "code",
   "execution_count": null,
   "metadata": {},
   "outputs": [],
   "source": [
    "# Instancia a Arvore Binária\n",
    "arvore_bin = ab.Tree()"
   ]
  },
  {
   "cell_type": "code",
   "execution_count": null,
   "metadata": {},
   "outputs": [],
   "source": [
    "# Carrega os dados na arvore Binária\n",
    "start_time = datetime.now()\n",
    "for idx,row in df_arvore.iterrows(): \n",
    "    arvore_bin.inserir(int(df_arvore.loc[idx]['Bib']),row)\n",
    "end_time = datetime.now()\n",
    "seconds = (end_time-start_time).total_seconds()\n",
    "dados_execucoes.append([\"Árvore Binária\",\"Inserção\",df_arvore.shape[0],str(seconds)])\n",
    "\n",
    "# Verifica a Altura da Arvore\n",
    "start_time = datetime.now()\n",
    "altura_bin = str(arvore_bin.altura(arvore_bin.root))\n",
    "end_time = datetime.now()\n",
    "seconds = (end_time-start_time).total_seconds()\n",
    "dados_execucoes.append([\"Árvore Binária\",\"Altura\",altura_bin,str(seconds)])\n",
    "\n",
    "# Conta os Nós\n",
    "start_time = datetime.now()\n",
    "nro_nos_bin = str(arvore_bin.contarNos(arvore_bin.root))\n",
    "end_time = datetime.now()\n",
    "seconds = (end_time-start_time).total_seconds()\n",
    "dados_execucoes.append([\"Árvore Binária\",\"Contar Nós\",nro_nos_bin,str(seconds)])\n",
    "\n",
    "# Conta as Folhas\n",
    "start_time = datetime.now()\n",
    "nro_folhas_bin = str(arvore_bin.folhas(arvore_bin.root))\n",
    "end_time = datetime.now()\n",
    "seconds = (end_time-start_time).total_seconds()\n",
    "dados_execucoes.append([\"Árvore Binária\",\"Contar Folhas\",nro_folhas_bin,str(seconds)])\n",
    "\n",
    "# Busca uma chave Exemplo\n",
    "start_time = datetime.now()\n",
    "for val in vetor_busca:\n",
    "    arvore_bin.buscar(val)\n",
    "end_time = datetime.now()\n",
    "seconds = (end_time-start_time).total_seconds()\n",
    "dados_execucoes.append([\"Árvore Binária\",\"Busca\",len(vetor_busca),str(seconds)])\n"
   ]
  },
  {
   "cell_type": "markdown",
   "metadata": {},
   "source": [
    "### Arvore AVL\n",
    "\n",
    "Código adaptado de: https://gist.github.com/vndmtrx/7657025\n",
    "\n",
    "O Código foi disponibilizado em um arquivo local: arvore_avl.py"
   ]
  },
  {
   "cell_type": "code",
   "execution_count": null,
   "metadata": {},
   "outputs": [],
   "source": [
    "# Importa a classe Arvore Avl\n",
    "import arvore_avl as avl"
   ]
  },
  {
   "cell_type": "code",
   "execution_count": null,
   "metadata": {},
   "outputs": [],
   "source": [
    "# Instancia as duas arvores AVL\n",
    "arvore_avl = avl.Tree()"
   ]
  },
  {
   "cell_type": "code",
   "execution_count": null,
   "metadata": {},
   "outputs": [],
   "source": [
    "# Carrega os dados na Árvore AVL\n",
    "start_time = datetime.now()\n",
    "for idx,row in df_arvore.iterrows(): \n",
    "    arvore_avl.inserir(int(df_arvore.loc[idx]['Bib']),row)\n",
    "end_time = datetime.now()\n",
    "seconds = (end_time-start_time).total_seconds()\n",
    "dados_execucoes.append([\"Árvore AVL\",\"Inserção\",df_arvore.shape[0],str(seconds)])\n",
    "\n",
    "# Verifica a Altura da Arvore\n",
    "start_time = datetime.now()\n",
    "altura_avl = str(arvore_avl.altura(arvore_avl.root))\n",
    "end_time = datetime.now()\n",
    "seconds = (end_time-start_time).total_seconds()\n",
    "dados_execucoes.append([\"Árvore AVL\",\"Altura\",altura_avl,str(seconds)])\n",
    "\n",
    "# Conta os Nós\n",
    "start_time = datetime.now()\n",
    "nro_nos_avl = str(arvore_avl.contarNos(arvore_avl.root))\n",
    "end_time = datetime.now()\n",
    "seconds = (end_time-start_time).total_seconds()\n",
    "dados_execucoes.append([\"Árvore AVL\",\"Contar Nós\",nro_nos_avl,str(seconds)])\n",
    "\n",
    "# Conta as Folhas\n",
    "start_time = datetime.now()\n",
    "nro_folhas_avl = str(arvore_avl.folhas(arvore_avl.root))\n",
    "end_time = datetime.now()\n",
    "seconds = (end_time-start_time).total_seconds()\n",
    "dados_execucoes.append([\"Árvore AVL\",\"Contar Folhas\",nro_folhas_avl,str(seconds)])\n",
    "\n",
    "# Busca um mil elementos\n",
    "start_time = datetime.now()\n",
    "for val in vetor_busca:\n",
    "    arvore_avl.buscar(val)\n",
    "end_time = datetime.now()\n",
    "seconds = (end_time-start_time).total_seconds()\n",
    "dados_execucoes.append([\"Árvore AVL\",\"Busca\",len(vetor_busca),str(seconds)])\n"
   ]
  },
  {
   "cell_type": "code",
   "execution_count": null,
   "metadata": {},
   "outputs": [],
   "source": [
    "# Salva os dados\n",
    "df_dados_exec = pd.DataFrame(dados_execucoes,columns=['arvore','funcao','valor','tempo_segundos'])\n",
    "df_dados_exec['dt_execucao'] = datetime.now().strftime(\"%Y-%m-%d %H:%M:%S\")"
   ]
  },
  {
   "cell_type": "code",
   "execution_count": null,
   "metadata": {},
   "outputs": [],
   "source": [
    "df_dados_exec"
   ]
  },
  {
   "cell_type": "code",
   "execution_count": null,
   "metadata": {},
   "outputs": [],
   "source": [
    "# Grava Dados no arquivo Excel\n",
    "#arquivo = datetime.now().strftime(\"%Y-%m-%d\") + \"_dados_tempos.xlsx\"\n",
    "#df_dados_exec.to_excel('../data/' +arquivo,sheet_name='dados', index=False)"
   ]
  }
 ],
 "metadata": {
  "kernelspec": {
   "display_name": "Python 3.10.7 64-bit",
   "language": "python",
   "name": "python3"
  },
  "language_info": {
   "codemirror_mode": {
    "name": "ipython",
    "version": 3
   },
   "file_extension": ".py",
   "mimetype": "text/x-python",
   "name": "python",
   "nbconvert_exporter": "python",
   "pygments_lexer": "ipython3",
   "version": "3.10.7"
  },
  "orig_nbformat": 4,
  "vscode": {
   "interpreter": {
    "hash": "26de051ba29f2982a8de78e945f0abaf191376122a1563185a90213a26c5da77"
   }
  }
 },
 "nbformat": 4,
 "nbformat_minor": 2
}
